{
 "cells": [
  {
   "cell_type": "markdown",
   "metadata": {},
   "source": [
    "Python\n",
    "-----------------------"
   ]
  },
  {
   "cell_type": "code",
   "execution_count": 8,
   "metadata": {
    "collapsed": false
   },
   "outputs": [],
   "source": [
    "def printFizzBuzz(n):\n",
    "    for i in xrange(1, n+1, 1):\n",
    "        if i % 15 == 0:\n",
    "            print 'FizzBuzz'\n",
    "        elif i % 3 == 0:\n",
    "            print 'Fizz'\n",
    "        elif i % 5 == 0:\n",
    "            print 'Buzz'\n",
    "        else:\n",
    "            print i"
   ]
  },
  {
   "cell_type": "code",
   "execution_count": 10,
   "metadata": {
    "collapsed": false
   },
   "outputs": [],
   "source": [
    "#printFizzBuzz(100)"
   ]
  },
  {
   "cell_type": "code",
   "execution_count": 17,
   "metadata": {
    "collapsed": true
   },
   "outputs": [],
   "source": [
    "def fibonacci(n):\n",
    "    if n < 3:\n",
    "        return 1\n",
    "    \n",
    "    f1 = 1\n",
    "    f2 = 1\n",
    "    for i in xrange(n-2):\n",
    "        tmp = f1\n",
    "        f1 = f2\n",
    "        f2 = f1 + tmp\n",
    "        \n",
    "    return f2"
   ]
  },
  {
   "cell_type": "code",
   "execution_count": 20,
   "metadata": {
    "collapsed": false
   },
   "outputs": [],
   "source": [
    "#print fibonacci(100)"
   ]
  },
  {
   "cell_type": "code",
   "execution_count": 21,
   "metadata": {
    "collapsed": true
   },
   "outputs": [],
   "source": [
    "def swap(l, i, j):\n",
    "    tmp = l[j]\n",
    "    l[j] = l[i]\n",
    "    l[i] = tmp"
   ]
  },
  {
   "cell_type": "code",
   "execution_count": 35,
   "metadata": {
    "collapsed": true
   },
   "outputs": [],
   "source": [
    "#inplace sorting: no new lists\n",
    "def quick_sort(l, start, end):\n",
    "    if end - start < 2:\n",
    "        return\n",
    "    \n",
    "    pivot = l[start]\n",
    "    boundary = start\n",
    "    for i in xrange(start+1, end, 1):\n",
    "        if (l[i] < pivot):\n",
    "            boundary += 1\n",
    "            swap(l, boundary, i)\n",
    "    \n",
    "    swap(l, start, boundary)\n",
    "    quick_sort(l, start, boundary)\n",
    "    quick_sort(l, boundary+1, end)"
   ]
  },
  {
   "cell_type": "code",
   "execution_count": 47,
   "metadata": {
    "collapsed": false
   },
   "outputs": [
    {
     "name": "stdout",
     "output_type": "stream",
     "text": [
      "[0, 1, 2, 3, 3, 4, 4, 5, 6, 7, 8, 9]\n"
     ]
    }
   ],
   "source": [
    "l = [3,1,5,0,4,9,6,8,2,7,3,4]\n",
    "quick_sort(l, 0, len(l))\n",
    "print l"
   ]
  },
  {
   "cell_type": "code",
   "execution_count": 45,
   "metadata": {
    "collapsed": true
   },
   "outputs": [],
   "source": [
    "def quick_sort_one_liner(l):\n",
    "    if len(l) < 2:\n",
    "        return l\n",
    "    else:\n",
    "        return quick_sort_one_liner([x for x in l[1:] if x <= l[0]]) + [l[0]] + quick_sort_one_liner([x for x in l[1:] if x > l[0]])"
   ]
  },
  {
   "cell_type": "code",
   "execution_count": 46,
   "metadata": {
    "collapsed": false
   },
   "outputs": [
    {
     "data": {
      "text/plain": [
       "[0, 1, 2, 3, 3, 4, 4, 5, 6, 7, 8, 9]"
      ]
     },
     "execution_count": 46,
     "metadata": {},
     "output_type": "execute_result"
    }
   ],
   "source": [
    "quick_sort_one_liner([3,1,5,0,4,9,6,8,2,7,3,4])"
   ]
  },
  {
   "cell_type": "markdown",
   "metadata": {},
   "source": [
    "NumPy\n",
    "---"
   ]
  },
  {
   "cell_type": "code",
   "execution_count": 13,
   "metadata": {
    "collapsed": true
   },
   "outputs": [],
   "source": [
    "import numpy as np\n",
    "import timeit"
   ]
  },
  {
   "cell_type": "code",
   "execution_count": 18,
   "metadata": {
    "collapsed": false
   },
   "outputs": [
    {
     "data": {
      "text/plain": [
       "0.2554161548614502"
      ]
     },
     "execution_count": 18,
     "metadata": {},
     "output_type": "execute_result"
    }
   ],
   "source": [
    "#%timeit np.linspace(1, 10000, 10000)\n",
    "s = '''\\\n",
    "import numpy as np\n",
    "np.linspace(1, 10000, 10000)\n",
    "'''\n",
    "timeit.timeit(s, number=10000)"
   ]
  },
  {
   "cell_type": "code",
   "execution_count": 15,
   "metadata": {
    "collapsed": false
   },
   "outputs": [
    {
     "data": {
      "text/plain": [
       "12.740125894546509"
      ]
     },
     "execution_count": 15,
     "metadata": {},
     "output_type": "execute_result"
    }
   ],
   "source": [
    "s = '''\\\n",
    "l = []\n",
    "for i in xrange(10000):\n",
    "    l.append(i + 1)\n",
    "'''\n",
    "\n",
    "timeit.timeit(s, number=10000)"
   ]
  },
  {
   "cell_type": "code",
   "execution_count": 20,
   "metadata": {
    "collapsed": false
   },
   "outputs": [
    {
     "data": {
      "text/plain": [
       "4.7461018562316895"
      ]
     },
     "execution_count": 20,
     "metadata": {},
     "output_type": "execute_result"
    }
   ],
   "source": [
    "s = '''\\\n",
    "l = [x for x in xrange(10000)]\n",
    "'''\n",
    "\n",
    "timeit.timeit(s, number=10000)"
   ]
  },
  {
   "cell_type": "code",
   "execution_count": 25,
   "metadata": {
    "collapsed": false
   },
   "outputs": [],
   "source": [
    "arr = [[1,2,3],[4,5,6],[7,8,9]]\n",
    "np_arr = np.array(arr)"
   ]
  },
  {
   "cell_type": "markdown",
   "metadata": {},
   "source": [
    "Matplotlib\n",
    "---------"
   ]
  },
  {
   "cell_type": "code",
   "execution_count": 4,
   "metadata": {
    "collapsed": false
   },
   "outputs": [
    {
     "name": "stdout",
     "output_type": "stream",
     "text": [
      "Populating the interactive namespace from numpy and matplotlib\n"
     ]
    }
   ],
   "source": [
    "%pylab inline\n",
    "pylab.rcParams['figure.figsize'] = (15, 6)"
   ]
  },
  {
   "cell_type": "code",
   "execution_count": 29,
   "metadata": {
    "collapsed": true
   },
   "outputs": [],
   "source": [
    "from matplotlib import pylab as plt"
   ]
  },
  {
   "cell_type": "code",
   "execution_count": 8,
   "metadata": {
    "collapsed": false
   },
   "outputs": [
    {
     "data": {
      "image/png": "[encoded data removed]",
      "text/plain": [
       "<matplotlib.figure.Figure at 0x10d3c3310>"
      ]
     },
     "metadata": {},
     "output_type": "display_data"
    }
   ],
   "source": [
    "x = np.arange(0.01, 10, 0.1)\n",
    "\n",
    "plt.subplot(121)\n",
    "plt.plot(x, 10.0/x, label='10/x')\n",
    "plt.plot(x, x, label='x')\n",
    "plt.plot(x, np.log2(x), label='log2(x)')\n",
    "\n",
    "plt.axis([0, 10, 0, 10])\n",
    "\n",
    "plt.xlabel('x')\n",
    "plt.ylabel('y')\n",
    "\n",
    "plt.legend()\n",
    "\n",
    "plt.subplot(122)\n",
    "plt.plot(x, x, label='x')\n",
    "\n",
    "#plt.show()\n",
    "plt.savefig('fig.png')"
   ]
  },
  {
   "cell_type": "markdown",
   "metadata": {},
   "source": [
    "Scipy\n",
    "------------"
   ]
  },
  {
   "cell_type": "code",
   "execution_count": 21,
   "metadata": {
    "collapsed": true
   },
   "outputs": [],
   "source": [
    "from scipy.stats import norm\n",
    "from scipy.linalg import eig"
   ]
  },
  {
   "cell_type": "code",
   "execution_count": 55,
   "metadata": {
    "collapsed": false
   },
   "outputs": [],
   "source": [
    "A = norm.rvs(loc=0, scale=1, size=(5,5))"
   ]
  },
  {
   "cell_type": "code",
   "execution_count": 56,
   "metadata": {
    "collapsed": true
   },
   "outputs": [],
   "source": [
    "w, v = eig(A)"
   ]
  },
  {
   "cell_type": "code",
   "execution_count": 57,
   "metadata": {
    "collapsed": false
   },
   "outputs": [
    {
     "data": {
      "text/plain": [
       "array([-1.60208957+0.j        , -0.47161067+1.98194108j,\n",
       "       -0.47161067-1.98194108j,  2.49004896+0.12261187j,\n",
       "        2.49004896-0.12261187j])"
      ]
     },
     "execution_count": 57,
     "metadata": {},
     "output_type": "execute_result"
    }
   ],
   "source": [
    "w"
   ]
  },
  {
   "cell_type": "code",
   "execution_count": 58,
   "metadata": {
    "collapsed": false
   },
   "outputs": [
    {
     "data": {
      "text/plain": [
       "array([[-0.35362488+0.j        , -0.13408489-0.30387485j,\n",
       "        -0.13408489+0.30387485j,  0.53208329+0.02681784j,\n",
       "         0.53208329-0.02681784j],\n",
       "       [ 0.08141494+0.j        , -0.09611882+0.53931833j,\n",
       "        -0.09611882-0.53931833j,  0.25209689+0.01775052j,\n",
       "         0.25209689-0.01775052j],\n",
       "       [-0.77768944+0.j        ,  0.57349089+0.j        ,\n",
       "         0.57349089-0.j        ,  0.06502627+0.0549038j ,\n",
       "         0.06502627-0.0549038j ],\n",
       "       [ 0.11083074+0.j        ,  0.45738096-0.10080522j,\n",
       "         0.45738096+0.10080522j,  0.70008727+0.j        ,  0.70008727-0.j        ],\n",
       "       [-0.50123521+0.j        ,  0.20199491-0.02292288j,\n",
       "         0.20199491+0.02292288j,  0.39131070-0.04255768j,\n",
       "         0.39131070+0.04255768j]])"
      ]
     },
     "execution_count": 58,
     "metadata": {},
     "output_type": "execute_result"
    }
   ],
   "source": [
    "v"
   ]
  },
  {
   "cell_type": "code",
   "execution_count": 63,
   "metadata": {
    "collapsed": false
   },
   "outputs": [
    {
     "data": {
      "text/plain": [
       "array([ 0.56653873+0.j, -0.13043402+0.j,  1.24592814+0.j, -0.17756077+0.j,\n",
       "        0.80302369+0.j])"
      ]
     },
     "execution_count": 63,
     "metadata": {},
     "output_type": "execute_result"
    }
   ],
   "source": [
    "np.dot(A, v[:,0])"
   ]
  },
  {
   "cell_type": "code",
   "execution_count": 62,
   "metadata": {
    "collapsed": false
   },
   "outputs": [
    {
     "data": {
      "text/plain": [
       "array([ 0.56653873-0.j, -0.13043402+0.j,  1.24592814-0.j, -0.17756077+0.j,\n",
       "        0.80302369-0.j])"
      ]
     },
     "execution_count": 62,
     "metadata": {},
     "output_type": "execute_result"
    }
   ],
   "source": [
    "w[0] * v[:,0]"
   ]
  },
  {
   "cell_type": "code",
   "execution_count": null,
   "metadata": {
    "collapsed": true
   },
   "outputs": [],
   "source": []
  }
 ],
 "metadata": {
  "kernelspec": {
   "display_name": "Python 2",
   "language": "python",
   "name": "python2"
  },
  "language_info": {
   "codemirror_mode": {
    "name": "ipython",
    "version": 2
   },
   "file_extension": ".py",
   "mimetype": "text/x-python",
   "name": "python",
   "nbconvert_exporter": "python",
   "pygments_lexer": "ipython2",
   "version": "2.7.11"
  }
 },
 "nbformat": 4,
 "nbformat_minor": 0
}
