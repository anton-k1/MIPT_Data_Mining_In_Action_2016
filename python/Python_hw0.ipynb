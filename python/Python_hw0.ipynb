{
 "cells": [
  {
   "cell_type": "markdown",
   "metadata": {},
   "source": [
    "Python\n",
    "-----------------------"
   ]
  },
  {
   "cell_type": "code",
   "execution_count": 8,
   "metadata": {
    "collapsed": false
   },
   "outputs": [],
   "source": [
    "def printFizzBuzz(n):\n",
    "    for i in xrange(1, n+1, 1):\n",
    "        if i % 15 == 0:\n",
    "            print 'FizzBuzz'\n",
    "        elif i % 3 == 0:\n",
    "            print 'Fizz'\n",
    "        elif i % 5 == 0:\n",
    "            print 'Buzz'\n",
    "        else:\n",
    "            print i"
   ]
  },
  {
   "cell_type": "code",
   "execution_count": 10,
   "metadata": {
    "collapsed": false
   },
   "outputs": [],
   "source": [
    "#printFizzBuzz(100)"
   ]
  },
  {
   "cell_type": "code",
   "execution_count": 17,
   "metadata": {
    "collapsed": true
   },
   "outputs": [],
   "source": [
    "def fibonacci(n):\n",
    "    if n < 3:\n",
    "        return 1\n",
    "    \n",
    "    f1 = 1\n",
    "    f2 = 1\n",
    "    for i in xrange(n-2):\n",
    "        tmp = f1\n",
    "        f1 = f2\n",
    "        f2 = f1 + tmp\n",
    "        \n",
    "    return f2"
   ]
  },
  {
   "cell_type": "code",
   "execution_count": 20,
   "metadata": {
    "collapsed": false
   },
   "outputs": [],
   "source": [
    "#print fibonacci(100)"
   ]
  },
  {
   "cell_type": "code",
   "execution_count": 21,
   "metadata": {
    "collapsed": true
   },
   "outputs": [],
   "source": [
    "def swap(l, i, j):\n",
    "    tmp = l[j]\n",
    "    l[j] = l[i]\n",
    "    l[i] = tmp"
   ]
  },
  {
   "cell_type": "code",
   "execution_count": 35,
   "metadata": {
    "collapsed": true
   },
   "outputs": [],
   "source": [
    "#inplace sorting: no new lists\n",
    "def quick_sort(l, start, end):\n",
    "    if end - start < 2:\n",
    "        return\n",
    "    \n",
    "    pivot = l[start]\n",
    "    boundary = start\n",
    "    for i in xrange(start+1, end, 1):\n",
    "        if (l[i] < pivot):\n",
    "            boundary += 1\n",
    "            swap(l, boundary, i)\n",
    "    \n",
    "    swap(l, start, boundary)\n",
    "    quick_sort(l, start, boundary)\n",
    "    quick_sort(l, boundary+1, end)"
   ]
  },
  {
   "cell_type": "code",
   "execution_count": 47,
   "metadata": {
    "collapsed": false
   },
   "outputs": [
    {
     "name": "stdout",
     "output_type": "stream",
     "text": [
      "[0, 1, 2, 3, 3, 4, 4, 5, 6, 7, 8, 9]\n"
     ]
    }
   ],
   "source": [
    "l = [3,1,5,0,4,9,6,8,2,7,3,4]\n",
    "quick_sort(l, 0, len(l))\n",
    "print l"
   ]
  },
  {
   "cell_type": "code",
   "execution_count": 45,
   "metadata": {
    "collapsed": true
   },
   "outputs": [],
   "source": [
    "def quick_sort_one_liner(l):\n",
    "    if len(l) < 2:\n",
    "        return l\n",
    "    else:\n",
    "        return quick_sort_one_liner([x for x in l[1:] if x <= l[0]]) + [l[0]] + quick_sort_one_liner([x for x in l[1:] if x > l[0]])"
   ]
  },
  {
   "cell_type": "code",
   "execution_count": 46,
   "metadata": {
    "collapsed": false
   },
   "outputs": [
    {
     "data": {
      "text/plain": [
       "[0, 1, 2, 3, 3, 4, 4, 5, 6, 7, 8, 9]"
      ]
     },
     "execution_count": 46,
     "metadata": {},
     "output_type": "execute_result"
    }
   ],
   "source": [
    "quick_sort_one_liner([3,1,5,0,4,9,6,8,2,7,3,4])"
   ]
  },
  {
   "cell_type": "markdown",
   "metadata": {},
   "source": [
    "NumPy\n",
    "---"
   ]
  },
  {
   "cell_type": "code",
   "execution_count": null,
   "metadata": {
    "collapsed": true
   },
   "outputs": [],
   "source": []
  }
 ],
 "metadata": {
  "kernelspec": {
   "display_name": "Python 2",
   "language": "python",
   "name": "python2"
  },
  "language_info": {
   "codemirror_mode": {
    "name": "ipython",
    "version": 2
   },
   "file_extension": ".py",
   "mimetype": "text/x-python",
   "name": "python",
   "nbconvert_exporter": "python",
   "pygments_lexer": "ipython2",
   "version": "2.7.11"
  }
 },
 "nbformat": 4,
 "nbformat_minor": 0
}
